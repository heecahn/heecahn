{
 "cells": [
  {
   "cell_type": "code",
   "execution_count": null,
   "metadata": {},
   "outputs": [],
   "source": [
    "import cv2\n",
    "import numpy as np\n",
    "import matplotlib.pyplot as plt\n",
    "\n",
    "\n",
    "\n",
    "src = cv2.imread('8.jpg')\n",
    "\n",
    "\n",
    "hsv = cv2.cvtColor(src, cv2.COLOR_BGR2HSV)\n",
    "\n",
    "h, s, v = cv2.split(hsv)\n",
    "\n",
    "\n",
    "equalized_V= cv2.equalizeHist(v)\n",
    "hsv_1 = cv2.merge([h,s,equalized])\n",
    "\n",
    "vDst = cv2.cvtColor(hsv_1, cv2.COLOR_HSV2BGR)\n",
    "\n",
    "\n",
    "equalized_S = cv2.equalizeHist(s)\n",
    "hsv_2 = cv2.merge([h,equalized,equalized_V])\n",
    "\n",
    "svDst = cv2.cvtColor(hsv_2, cv2.COLOR_HSV2BGR)\n",
    "\n",
    "\n",
    "equalized_H = cv2.equalizeHist(h)\n",
    "hsv_3 = cv2.merge([equalized_H,equalized_S,equalized_V])\n",
    "\n",
    "hsvDst = cv2.cvtColor(hsv_3, cv2.COLOR_HSV2BGR)\n",
    "\n",
    "\n",
    "\n",
    "\n",
    "cv2.imshow('src', src)\n",
    "cv2.imshow('v dst', vDst)\n",
    "cv2.imshow('sv dst', svDst)\n",
    "cv2.imshow('hsv dst', hsvDst)\n",
    "\n",
    "cv2.waitKey()\n",
    "cv2.destroyAllWindows()"
   ]
  },
  {
   "cell_type": "code",
   "execution_count": null,
   "metadata": {},
   "outputs": [],
   "source": []
  }
 ],
 "metadata": {
  "kernelspec": {
   "display_name": "Python 3",
   "language": "python",
   "name": "python3"
  },
  "language_info": {
   "codemirror_mode": {
    "name": "ipython",
    "version": 3
   },
   "file_extension": ".py",
   "mimetype": "text/x-python",
   "name": "python",
   "nbconvert_exporter": "python",
   "pygments_lexer": "ipython3",
   "version": "3.8.5"
  }
 },
 "nbformat": 4,
 "nbformat_minor": 4
}
