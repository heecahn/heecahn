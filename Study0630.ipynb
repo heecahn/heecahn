{
 "cells": [
  {
   "cell_type": "markdown",
   "metadata": {},
   "source": [
    "# Pandas 입문기 \n",
    "\n",
    "1. 데이터 분석 및 가공에 사용되는 파이썬 라이브러리\n",
    "\n",
    "2. 엑셀과 상당히 유사\n",
    "\n",
    "3. 데이터의 수정/가공 및 분석이 용이\n",
    "\n",
    "4. 데이터 가공을 위한 수많은 함수를 지원 \n",
    "\n",
    "5. Numpy 기반으로 데이터 처리가 상당히 빠름 \n",
    "\n",
    "## pandas 자료구조 \n",
    "\n",
    "1. 목적 형식적으로 서로 다른 여러 가지 유형의 데이터를 공통의 포맷으로 정리하는 것 \n",
    "\n",
    "2. 판다스 시리즈와 데이터프레임이라는 구조화된 데이터형식을 제공 \n",
    "\n",
    "## 시리즈 \n",
    "\n",
    "1. 일차원 레이블 배열과 같은 구조\n",
    "\n",
    "2. 모든 데이터 유형을 포함 할 수 있음\n",
    "\n",
    "3. 두개의 배열(array) 인덱스 기능을 하는 배열과 실제 데이터를 포함하는 배열의 구조 \n"
   ]
  },
  {
   "cell_type": "code",
   "execution_count": 1,
   "metadata": {},
   "outputs": [
    {
     "name": "stdout",
     "output_type": "stream",
     "text": [
      "<class 'pandas.core.series.Series'>\n",
      "\n",
      "\n",
      "a    1\n",
      "b    2\n",
      "c    3\n",
      "dtype: int64\n"
     ]
    }
   ],
   "source": [
    "# 딕셔너리의 시리즈 변환 \n",
    "\n",
    "import pandas as pd \n",
    "\n",
    "# k:v 구조를 갖는 딕셔너리를 만들고 변수 dict_data에 저장 \n",
    "\n",
    "dict_data = {'a':1,'b':2,'c':3}\n",
    "\n",
    "# 판다스 Series()함수로 딕셔너리(dict_data)를 시리즈로 변환\n",
    "\n",
    "sr= pd.Series(dict_data)\n",
    "\n",
    "# 변수 sr의 자료형 출력\n",
    "\n",
    "print(type(sr))\n",
    "\n",
    "print('\\n')\n",
    "\n",
    "# 변수 sr에 저장되어있는 시리즈 객체를 출력\n",
    "\n",
    "print(sr)"
   ]
  },
  {
   "cell_type": "markdown",
   "metadata": {},
   "source": [
    "# 인덱스 구조\n",
    "\n",
    "인덱스는 자기와 짝을 이루는 원소의 순서와 주소를 저장 \n",
    "\n",
    "인덱스를 활용하여 데이터 값의 탐색 정렬 선택 결합 데이터 조작함 \n",
    "\n",
    "인덱스의 종류 \n",
    "\n",
    "정수형 위치 인덱스 \n",
    "\n",
    "인덱스 이름 또는 인덱스 라벨 \n",
    "\n",
    " 인덱스의 유형에 따라 사용법이 조금 다름 ▪ 정수형 인덱스: 대괄호([ ]) 안에 숫자 입력. \n",
    "(0부터 시작)\n",
    "\n",
    "▪ 인덱스 이름\n",
    "\n",
    "(라벨): 대괄호([ ]) 안에 이름과 함께 따옴표를 입력. \n",
    "\n",
    "▪큰 따옴표(“ ”), 작은 따옴표(‘ ’) 모두 사용"
   ]
  },
  {
   "cell_type": "code",
   "execution_count": 26,
   "metadata": {},
   "outputs": [
    {
     "name": "stdout",
     "output_type": "stream",
     "text": [
      "0      2021-06-30\n",
      "1    820107750957\n",
      "2             LHS\n",
      "3             183\n",
      "4              83\n",
      "dtype: object\n",
      "\n",
      "\n",
      "Index(['a', 'b', 'c'], dtype='object')\n",
      "\n",
      "\n",
      "[1 2 3]\n"
     ]
    }
   ],
   "source": [
    "import pandas as pd\n",
    "\n",
    "list_data = ['2021-06-30', 820107750957,'LHS',183, 83]\n",
    "\n",
    "hs = pd.Series(list_data)\n",
    "\n",
    "print(hs)\n",
    "\n",
    "print('\\n')   # 가독성...때문이구나....!!\n",
    "\n",
    "\n",
    "\n",
    "# 인덱스 배열은 변수 idx에 저장. 데이터 값 배열은 벼수 val에 저장\n",
    "\n",
    "idx = sr.index\n",
    "val = sr.values\n",
    "\n",
    "print(idx)\n",
    "print('\\n')\n",
    "print(val)"
   ]
  },
  {
   "cell_type": "markdown",
   "metadata": {},
   "source": [
    "# 원소 선택 \n",
    "\n",
    "인덱스를 이용하여 시리즈의 원소를 선택 "
   ]
  },
  {
   "cell_type": "code",
   "execution_count": 41,
   "metadata": {},
   "outputs": [
    {
     "name": "stdout",
     "output_type": "stream",
     "text": [
      "이름              이희승\n",
      "생년 월일    1996-08-15\n",
      "성별                남\n",
      "학생여부           True\n",
      "dtype: object\n"
     ]
    }
   ],
   "source": [
    "# 리스트의 시리즈 변환\n",
    "\n",
    "import pandas as pd \n",
    "\n",
    "#튜플을 시리즈로 변환\n",
    "\n",
    "tup_data = ('이희승', '1996-08-15','남',True)\n",
    "hs = pd.Series(tup_data, index=['이름', '생년 월일','성별','학생여부'])\n",
    "\n",
    "print(hs)\n"
   ]
  },
  {
   "cell_type": "markdown",
   "metadata": {},
   "source": [
    "# 튜플, 시리즈는 그냥 벡터라고 생각하면 됨\n",
    "\n",
    "# o o o o \n",
    "# o o o o  이런구조\n",
    "\n",
    "데이터 프레임 구조를 쓰면 내가 원했던 \n",
    "\n",
    "o o o o o\n",
    "\n",
    "o o o o o \n",
    "\n",
    "o o o o o 를 쓸 수있지? \n",
    "\n",
    "\n",
    "말 나온김에 데이터 프레임을 들어가자 \n",
    "\n",
    "2차원 배열 \n",
    "\n",
    "열은 시리즈 객체\n",
    "\n",
    "행 인덱스와 열 이름 또는 열 라벨로 구분\n",
    "\n",
    "\n",
    "## 예시 \n",
    "\n",
    "## 주식 종목 리스트에서 각 행은 하나의 주식 종목에 관한 관측값을 나타낸다\n",
    "\n",
    "## 각 열은 종목 코드 , 회사이름 액면가 총 주식수 등 공통의 속성이나 범주로 나타냄 보통 변수로 활용\n",
    "\n",
    "\n"
   ]
  },
  {
   "cell_type": "code",
   "execution_count": 48,
   "metadata": {},
   "outputs": [
    {
     "name": "stdout",
     "output_type": "stream",
     "text": [
      "<class 'pandas.core.frame.DataFrame'>\n",
      "\n",
      "\n",
      "           희찬          가민\n",
      "0  1996-08-15  1998-11-01\n",
      "1         183         163\n",
      "2          83          53\n"
     ]
    },
    {
     "data": {
      "text/html": [
       "<div>\n",
       "<style scoped>\n",
       "    .dataframe tbody tr th:only-of-type {\n",
       "        vertical-align: middle;\n",
       "    }\n",
       "\n",
       "    .dataframe tbody tr th {\n",
       "        vertical-align: top;\n",
       "    }\n",
       "\n",
       "    .dataframe thead th {\n",
       "        text-align: right;\n",
       "    }\n",
       "</style>\n",
       "<table border=\"1\" class=\"dataframe\">\n",
       "  <thead>\n",
       "    <tr style=\"text-align: right;\">\n",
       "      <th></th>\n",
       "      <th>희찬</th>\n",
       "      <th>가민</th>\n",
       "    </tr>\n",
       "  </thead>\n",
       "  <tbody>\n",
       "    <tr>\n",
       "      <th>0</th>\n",
       "      <td>1996-08-15</td>\n",
       "      <td>1998-11-01</td>\n",
       "    </tr>\n",
       "    <tr>\n",
       "      <th>1</th>\n",
       "      <td>183</td>\n",
       "      <td>163</td>\n",
       "    </tr>\n",
       "    <tr>\n",
       "      <th>2</th>\n",
       "      <td>83</td>\n",
       "      <td>53</td>\n",
       "    </tr>\n",
       "  </tbody>\n",
       "</table>\n",
       "</div>"
      ],
      "text/plain": [
       "           희찬          가민\n",
       "0  1996-08-15  1998-11-01\n",
       "1         183         163\n",
       "2          83          53"
      ]
     },
     "execution_count": 48,
     "metadata": {},
     "output_type": "execute_result"
    }
   ],
   "source": [
    "# DafaFrame  \n",
    "\n",
    "#pandas.DataFrame (딕셔너리) 이렇게 쓴다.\n",
    "\n",
    "import pandas as pd \n",
    "\n",
    "# 열이름은 key로하고 리스트를 value로 갖는 딕셔너리로 정의 \n",
    "\n",
    "dic_data = {'희찬':['1996-08-15',183,83],'가민':['1998-11-01',163,53]}\n",
    "\n",
    "df = pd.DataFrame(dic_data)\n",
    "\n",
    "print(type(df))\n",
    "print('\\n')\n",
    "print(df)\n",
    "\n",
    "df\n"
   ]
  },
  {
   "cell_type": "markdown",
   "metadata": {},
   "source": [
    "# 행 인덱스/열 이름 설정\n",
    "\n",
    "pandas.DataFrame(2차원 배열, index=행 인덱스 배열, columns= 열 이름 배열)"
   ]
  },
  {
   "cell_type": "code",
   "execution_count": 56,
   "metadata": {},
   "outputs": [
    {
     "data": {
      "text/html": [
       "<div>\n",
       "<style scoped>\n",
       "    .dataframe tbody tr th:only-of-type {\n",
       "        vertical-align: middle;\n",
       "    }\n",
       "\n",
       "    .dataframe tbody tr th {\n",
       "        vertical-align: top;\n",
       "    }\n",
       "\n",
       "    .dataframe thead th {\n",
       "        text-align: right;\n",
       "    }\n",
       "</style>\n",
       "<table border=\"1\" class=\"dataframe\">\n",
       "  <thead>\n",
       "    <tr style=\"text-align: right;\">\n",
       "      <th></th>\n",
       "      <th>나이</th>\n",
       "      <th>성별</th>\n",
       "      <th>이름</th>\n",
       "      <th>키</th>\n",
       "      <th>몸무게</th>\n",
       "    </tr>\n",
       "  </thead>\n",
       "  <tbody>\n",
       "    <tr>\n",
       "      <th>희찬</th>\n",
       "      <td>26</td>\n",
       "      <td>남</td>\n",
       "      <td>이희승</td>\n",
       "      <td>183</td>\n",
       "      <td>83</td>\n",
       "    </tr>\n",
       "    <tr>\n",
       "      <th>가민</th>\n",
       "      <td>24</td>\n",
       "      <td>여</td>\n",
       "      <td>남가민</td>\n",
       "      <td>163</td>\n",
       "      <td>53</td>\n",
       "    </tr>\n",
       "  </tbody>\n",
       "</table>\n",
       "</div>"
      ],
      "text/plain": [
       "    나이 성별   이름    키  몸무게\n",
       "희찬  26  남  이희승  183   83\n",
       "가민  24  여  남가민  163   53"
      ]
     },
     "execution_count": 56,
     "metadata": {},
     "output_type": "execute_result"
    }
   ],
   "source": [
    "df =pd.DataFrame([[26,'남','이희승',183,83],[24,'여','남가민',163,53]],\n",
    "                 index=['희찬','가민'],\n",
    "                 columns=['나이','성별','이름','키','몸무게'])\n",
    "\n",
    "df\n",
    "\n",
    "# df.columns\n",
    "# df.index\n"
   ]
  },
  {
   "cell_type": "code",
   "execution_count": 62,
   "metadata": {},
   "outputs": [
    {
     "name": "stderr",
     "output_type": "stream",
     "text": [
      "C:\\Users\\User\\anaconda3\\lib\\site-packages\\pandas\\core\\frame.py:4163: SettingWithCopyWarning: \n",
      "A value is trying to be set on a copy of a slice from a DataFrame\n",
      "\n",
      "See the caveats in the documentation: https://pandas.pydata.org/pandas-docs/stable/user_guide/indexing.html#returning-a-view-versus-a-copy\n",
      "  return super().drop(\n"
     ]
    },
    {
     "data": {
      "text/html": [
       "<div>\n",
       "<style scoped>\n",
       "    .dataframe tbody tr th:only-of-type {\n",
       "        vertical-align: middle;\n",
       "    }\n",
       "\n",
       "    .dataframe tbody tr th {\n",
       "        vertical-align: top;\n",
       "    }\n",
       "\n",
       "    .dataframe thead th {\n",
       "        text-align: right;\n",
       "    }\n",
       "</style>\n",
       "<table border=\"1\" class=\"dataframe\">\n",
       "  <thead>\n",
       "    <tr style=\"text-align: right;\">\n",
       "      <th></th>\n",
       "      <th>나이</th>\n",
       "      <th>성별</th>\n",
       "      <th>이름</th>\n",
       "      <th>키</th>\n",
       "      <th>몸무게</th>\n",
       "    </tr>\n",
       "  </thead>\n",
       "  <tbody>\n",
       "    <tr>\n",
       "      <th>천재</th>\n",
       "      <td>26</td>\n",
       "      <td>남</td>\n",
       "      <td>이희승</td>\n",
       "      <td>183</td>\n",
       "      <td>83</td>\n",
       "    </tr>\n",
       "  </tbody>\n",
       "</table>\n",
       "</div>"
      ],
      "text/plain": [
       "    나이 성별   이름    키  몸무게\n",
       "천재  26  남  이희승  183   83"
      ]
     },
     "execution_count": 62,
     "metadata": {},
     "output_type": "execute_result"
    }
   ],
   "source": [
    "# 행 인덱스, 열 이름 변경하기\n",
    "\n",
    "df.index=['천재','바보']\n",
    "\n",
    "df\n"
   ]
  },
  {
   "cell_type": "markdown",
   "metadata": {},
   "source": [
    "# 행/열 삭제\n",
    "\n",
    "\n",
    "\n",
    "## 행 삭제 : DataFrame 객체.drop(행인덱스 또는 배열, axis = 0)\n",
    "\n",
    "## 열 삭제 : DataFrame 객체.drop(열 이름 또는 배열, axis= 1 )\n",
    "\n"
   ]
  },
  {
   "cell_type": "code",
   "execution_count": 69,
   "metadata": {},
   "outputs": [
    {
     "data": {
      "text/html": [
       "<div>\n",
       "<style scoped>\n",
       "    .dataframe tbody tr th:only-of-type {\n",
       "        vertical-align: middle;\n",
       "    }\n",
       "\n",
       "    .dataframe tbody tr th {\n",
       "        vertical-align: top;\n",
       "    }\n",
       "\n",
       "    .dataframe thead th {\n",
       "        text-align: right;\n",
       "    }\n",
       "</style>\n",
       "<table border=\"1\" class=\"dataframe\">\n",
       "  <thead>\n",
       "    <tr style=\"text-align: right;\">\n",
       "      <th></th>\n",
       "      <th>나이</th>\n",
       "      <th>성별</th>\n",
       "      <th>이름</th>\n",
       "      <th>키</th>\n",
       "    </tr>\n",
       "  </thead>\n",
       "  <tbody>\n",
       "    <tr>\n",
       "      <th>천재</th>\n",
       "      <td>26</td>\n",
       "      <td>남</td>\n",
       "      <td>이희승</td>\n",
       "      <td>183</td>\n",
       "    </tr>\n",
       "    <tr>\n",
       "      <th>바보</th>\n",
       "      <td>24</td>\n",
       "      <td>여</td>\n",
       "      <td>남가민</td>\n",
       "      <td>163</td>\n",
       "    </tr>\n",
       "  </tbody>\n",
       "</table>\n",
       "</div>"
      ],
      "text/plain": [
       "    나이 성별   이름    키\n",
       "천재  26  남  이희승  183\n",
       "바보  24  여  남가민  163"
      ]
     },
     "execution_count": 69,
     "metadata": {},
     "output_type": "execute_result"
    }
   ],
   "source": [
    "# 행 삭제 drop( )\n",
    "\n",
    "df \n",
    "\n",
    "df2 = df[:]  # df의 데이터 프레임을 df2로 복사한다는 뜻이다.\n",
    "\n",
    "\n",
    "df2.drop('천재')\n",
    "\n",
    "# 열 삭제 \n",
    "\n",
    "df3 =df[:]\n",
    "\n",
    "df3.drop('몸무게',axis=1,inplace =True)\n",
    "df3"
   ]
  },
  {
   "cell_type": "markdown",
   "metadata": {},
   "source": [
    "# 행 선택\n",
    "\n",
    "loc 와 iloc 인덱서를 사용\n",
    "\n",
    "인덱스 이름을 기준으로 행을 선택할 때 loc 사용 !!!!\n",
    "\n",
    "정수형 위치 인덱스를 사용할 때는 iloc 사용!!! \n",
    "\n",
    "해보자고"
   ]
  },
  {
   "cell_type": "code",
   "execution_count": 83,
   "metadata": {},
   "outputs": [
    {
     "data": {
      "text/html": [
       "<div>\n",
       "<style scoped>\n",
       "    .dataframe tbody tr th:only-of-type {\n",
       "        vertical-align: middle;\n",
       "    }\n",
       "\n",
       "    .dataframe tbody tr th {\n",
       "        vertical-align: top;\n",
       "    }\n",
       "\n",
       "    .dataframe thead th {\n",
       "        text-align: right;\n",
       "    }\n",
       "</style>\n",
       "<table border=\"1\" class=\"dataframe\">\n",
       "  <thead>\n",
       "    <tr style=\"text-align: right;\">\n",
       "      <th></th>\n",
       "      <th>키</th>\n",
       "      <th>몸무게</th>\n",
       "      <th>전공</th>\n",
       "      <th>노트북</th>\n",
       "    </tr>\n",
       "  </thead>\n",
       "  <tbody>\n",
       "    <tr>\n",
       "      <th>희승</th>\n",
       "      <td>180</td>\n",
       "      <td>100</td>\n",
       "      <td>신소재</td>\n",
       "      <td>삼성</td>\n",
       "    </tr>\n",
       "    <tr>\n",
       "      <th>옥지</th>\n",
       "      <td>179</td>\n",
       "      <td>95</td>\n",
       "      <td>통계</td>\n",
       "      <td>엘지</td>\n",
       "    </tr>\n",
       "    <tr>\n",
       "      <th>가민</th>\n",
       "      <td>178</td>\n",
       "      <td>90</td>\n",
       "      <td>컴공</td>\n",
       "      <td>아수수</td>\n",
       "    </tr>\n",
       "    <tr>\n",
       "      <th>김옥지</th>\n",
       "      <td>177</td>\n",
       "      <td>85</td>\n",
       "      <td>사회학</td>\n",
       "      <td>엘지</td>\n",
       "    </tr>\n",
       "    <tr>\n",
       "      <th>명수</th>\n",
       "      <td>176</td>\n",
       "      <td>80</td>\n",
       "      <td>경제</td>\n",
       "      <td>엘지</td>\n",
       "    </tr>\n",
       "    <tr>\n",
       "      <th>홍철</th>\n",
       "      <td>175</td>\n",
       "      <td>75</td>\n",
       "      <td>경영</td>\n",
       "      <td>X</td>\n",
       "    </tr>\n",
       "    <tr>\n",
       "      <th>옥조</th>\n",
       "      <td>174</td>\n",
       "      <td>70</td>\n",
       "      <td>물리</td>\n",
       "      <td>X</td>\n",
       "    </tr>\n",
       "  </tbody>\n",
       "</table>\n",
       "</div>"
      ],
      "text/plain": [
       "       키  몸무게   전공  노트북\n",
       "희승   180  100  신소재   삼성\n",
       "옥지   179   95   통계   엘지\n",
       "가민   178   90   컴공  아수수\n",
       "김옥지  177   85  사회학   엘지\n",
       "명수   176   80   경제   엘지\n",
       "홍철   175   75   경영    X\n",
       "옥조   174   70   물리    X"
      ]
     },
     "execution_count": 83,
     "metadata": {},
     "output_type": "execute_result"
    }
   ],
   "source": [
    "\n",
    "exam_data={'키' : [ 180, 179, 178, 177, 176, 175, 174], '몸무게' : [ 100, 95, 90, 85, 80, 75, 70],\n",
    "           '전공' : ['신소재','통계','컴공','사회학','경제','경영','물리'], '노트북' : ['삼성','엘지','아수수','엘지','엘지','X','X']}\n",
    "\n",
    "df = pd.DataFrame(exam_data, index =['희승','옥지','가민','김옥지','명수','홍철','옥조'])\n",
    "\n",
    "\n",
    "df\n",
    "\n"
   ]
  },
  {
   "cell_type": "code",
   "execution_count": 89,
   "metadata": {},
   "outputs": [
    {
     "name": "stdout",
     "output_type": "stream",
     "text": [
      "키      180\n",
      "몸무게    100\n",
      "전공     신소재\n",
      "노트북     삼성\n",
      "Name: 희승, dtype: object\n"
     ]
    }
   ],
   "source": [
    "# loc - 인덱스 이름을 기준으로 행을 선택할 때 \n",
    "\n",
    "label1 =df.loc['희승']\n",
    "#position =df.iloc[0]\n",
    "\n",
    "print(label1)"
   ]
  },
  {
   "cell_type": "code",
   "execution_count": null,
   "metadata": {},
   "outputs": [],
   "source": [
    "="
   ]
  },
  {
   "cell_type": "code",
   "execution_count": null,
   "metadata": {},
   "outputs": [],
   "source": []
  },
  {
   "cell_type": "code",
   "execution_count": null,
   "metadata": {},
   "outputs": [],
   "source": []
  },
  {
   "cell_type": "code",
   "execution_count": null,
   "metadata": {},
   "outputs": [],
   "source": []
  },
  {
   "cell_type": "code",
   "execution_count": null,
   "metadata": {},
   "outputs": [],
   "source": []
  },
  {
   "cell_type": "code",
   "execution_count": null,
   "metadata": {},
   "outputs": [],
   "source": []
  },
  {
   "cell_type": "code",
   "execution_count": null,
   "metadata": {},
   "outputs": [],
   "source": []
  }
 ],
 "metadata": {
  "kernelspec": {
   "display_name": "Python 3",
   "language": "python",
   "name": "python3"
  },
  "language_info": {
   "codemirror_mode": {
    "name": "ipython",
    "version": 3
   },
   "file_extension": ".py",
   "mimetype": "text/x-python",
   "name": "python",
   "nbconvert_exporter": "python",
   "pygments_lexer": "ipython3",
   "version": "3.8.5"
  }
 },
 "nbformat": 4,
 "nbformat_minor": 4
}
